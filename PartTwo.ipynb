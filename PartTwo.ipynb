{
 "cells": [
  {
   "cell_type": "code",
   "execution_count": 33,
   "id": "ca4e7a2d",
   "metadata": {},
   "outputs": [],
   "source": [
    "import pandas as pd\n",
    "from sklearn.feature_extraction.text import TfidfVectorizer\n",
    "from sklearn.model_selection import train_test_split"
   ]
  },
  {
   "cell_type": "code",
   "execution_count": 35,
   "id": "411772a8",
   "metadata": {},
   "outputs": [],
   "source": [
    "path = \"C:/Users/Baleid/Desktop/BirkBeck Study/NLP/Coursework/nlp-coursework-2024-25-N-PolarStar/p2-texts/hansard40000.csv\"\n",
    "df = pd.read_csv(path)\n"
   ]
  },
  {
   "cell_type": "code",
   "execution_count": 32,
   "id": "0d835fff",
   "metadata": {},
   "outputs": [
    {
     "name": "stdout",
     "output_type": "stream",
     "text": [
      "Dimensions of the final dataframe:\n",
      "(8084, 8)\n"
     ]
    }
   ],
   "source": [
    "# Part A\n",
    "\n",
    "#Data Cleaning\n",
    "\n",
    "df['party'] = df['party'].replace('Labour (Co-op)', 'Labour')\n",
    "\n",
    "#top 4 parties\n",
    "df_no_speaker= df[df['party'] != 'Speaker']\n",
    "top_four_parties = df_no_speaker['party'].value_counts().nlargest(4).index\n",
    "df_top_four = df_no_speaker[df_no_speaker['party'].isin(top_four_parties)]\n",
    "\n",
    "# not speech\n",
    "df_not_speech = df_top_four[df_top_four['speech_class'] == 'Speech']\n",
    "\n",
    "# less than 1000 characters\n",
    "df_clean = df_not_speech[df_not_speech['speech'].str.len() >= 1000]\n",
    "print(\"Dimensions of the final dataframe:\")\n",
    "print(df_clean.shape)\n"
   ]
  },
  {
   "cell_type": "code",
   "execution_count": 34,
   "id": "f331733a",
   "metadata": {},
   "outputs": [],
   "source": [
    "#Part B\n",
    "vectorizer = TfidfVectorizer(stop_words='english', max_features=3000)\n",
    "X = vectorizer.fit_transform(df_clean['speech'])\n",
    "y = df_clean['party']\n",
    "\n",
    "X_train, X_test, y_train, y_test = train_test_split(X, y, stratify=y, random_state=26)"
   ]
  }
 ],
 "metadata": {
  "kernelspec": {
   "display_name": "Python 3",
   "language": "python",
   "name": "python3"
  },
  "language_info": {
   "codemirror_mode": {
    "name": "ipython",
    "version": 3
   },
   "file_extension": ".py",
   "mimetype": "text/x-python",
   "name": "python",
   "nbconvert_exporter": "python",
   "pygments_lexer": "ipython3",
   "version": "3.11.8"
  }
 },
 "nbformat": 4,
 "nbformat_minor": 5
}
