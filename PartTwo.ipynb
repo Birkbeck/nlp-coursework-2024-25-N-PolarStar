{
 "cells": [
  {
   "cell_type": "code",
   "execution_count": 36,
   "id": "ca4e7a2d",
   "metadata": {},
   "outputs": [],
   "source": [
    "import pandas as pd\n",
    "\n",
    "from sklearn.feature_extraction.text import TfidfVectorizer\n",
    "from sklearn.model_selection import train_test_split\n",
    "\n",
    "from sklearn.ensemble import RandomForestClassifier\n",
    "from sklearn.svm import SVC\n",
    "from sklearn.metrics import classification_report, f1_score"
   ]
  },
  {
   "cell_type": "code",
   "execution_count": 35,
   "id": "411772a8",
   "metadata": {},
   "outputs": [],
   "source": [
    "path = \"C:/Users/Baleid/Desktop/BirkBeck Study/NLP/Coursework/nlp-coursework-2024-25-N-PolarStar/p2-texts/hansard40000.csv\"\n",
    "df = pd.read_csv(path)\n"
   ]
  },
  {
   "cell_type": "code",
   "execution_count": 32,
   "id": "0d835fff",
   "metadata": {},
   "outputs": [
    {
     "name": "stdout",
     "output_type": "stream",
     "text": [
      "Dimensions of the final dataframe:\n",
      "(8084, 8)\n"
     ]
    }
   ],
   "source": [
    "# Part A\n",
    "\n",
    "#Data Cleaning\n",
    "\n",
    "df['party'] = df['party'].replace('Labour (Co-op)', 'Labour')\n",
    "\n",
    "#top 4 parties\n",
    "df_no_speaker= df[df['party'] != 'Speaker']\n",
    "top_four_parties = df_no_speaker['party'].value_counts().nlargest(4).index\n",
    "df_top_four = df_no_speaker[df_no_speaker['party'].isin(top_four_parties)]\n",
    "\n",
    "# not speech\n",
    "df_not_speech = df_top_four[df_top_four['speech_class'] == 'Speech']\n",
    "\n",
    "# less than 1000 characters\n",
    "df_clean = df_not_speech[df_not_speech['speech'].str.len() >= 1000]\n",
    "print(\"Dimensions of the final dataframe:\")\n",
    "print(df_clean.shape)\n"
   ]
  },
  {
   "cell_type": "code",
   "execution_count": 34,
   "id": "f331733a",
   "metadata": {},
   "outputs": [],
   "source": [
    "#Part B\n",
    "vectorizer = TfidfVectorizer(stop_words='english', max_features=3000)\n",
    "X = vectorizer.fit_transform(df_clean['speech'])\n",
    "y = df_clean['party']\n",
    "\n",
    "X_train, X_test, y_train, y_test = train_test_split(X, y, stratify=y, random_state=26)"
   ]
  },
  {
   "cell_type": "code",
   "execution_count": 40,
   "id": "acdaeafc",
   "metadata": {},
   "outputs": [
    {
     "name": "stdout",
     "output_type": "stream",
     "text": [
      "Random Forest Classifier\n",
      "Macro-average F1 score: 0.44849276102645497\n",
      "Classification Report:\n",
      "                         precision    recall  f1-score   support\n",
      "\n",
      "           Conservative       0.73      0.97      0.83      1205\n",
      "                 Labour       0.74      0.45      0.56       579\n",
      "       Liberal Democrat       0.00      0.00      0.00        67\n",
      "Scottish National Party       0.88      0.26      0.40       170\n",
      "\n",
      "               accuracy                           0.73      2021\n",
      "              macro avg       0.59      0.42      0.45      2021\n",
      "           weighted avg       0.72      0.73      0.69      2021\n",
      "\n"
     ]
    },
    {
     "name": "stderr",
     "output_type": "stream",
     "text": [
      "c:\\Users\\Baleid\\AppData\\Local\\Programs\\Python\\Python311\\Lib\\site-packages\\sklearn\\metrics\\_classification.py:1565: UndefinedMetricWarning: Precision is ill-defined and being set to 0.0 in labels with no predicted samples. Use `zero_division` parameter to control this behavior.\n",
      "  _warn_prf(average, modifier, f\"{metric.capitalize()} is\", len(result))\n",
      "c:\\Users\\Baleid\\AppData\\Local\\Programs\\Python\\Python311\\Lib\\site-packages\\sklearn\\metrics\\_classification.py:1565: UndefinedMetricWarning: Precision is ill-defined and being set to 0.0 in labels with no predicted samples. Use `zero_division` parameter to control this behavior.\n",
      "  _warn_prf(average, modifier, f\"{metric.capitalize()} is\", len(result))\n",
      "c:\\Users\\Baleid\\AppData\\Local\\Programs\\Python\\Python311\\Lib\\site-packages\\sklearn\\metrics\\_classification.py:1565: UndefinedMetricWarning: Precision is ill-defined and being set to 0.0 in labels with no predicted samples. Use `zero_division` parameter to control this behavior.\n",
      "  _warn_prf(average, modifier, f\"{metric.capitalize()} is\", len(result))\n"
     ]
    },
    {
     "name": "stdout",
     "output_type": "stream",
     "text": [
      "SVM Classifier with Linear Kernel\n",
      "Macro-average F1 score: 0.5846137591595653\n",
      "Classification Report:\n",
      "                         precision    recall  f1-score   support\n",
      "\n",
      "           Conservative       0.82      0.92      0.87      1205\n",
      "                 Labour       0.72      0.68      0.70       579\n",
      "       Liberal Democrat       0.83      0.07      0.14        67\n",
      "Scottish National Party       0.78      0.53      0.63       170\n",
      "\n",
      "               accuracy                           0.79      2021\n",
      "              macro avg       0.79      0.55      0.58      2021\n",
      "           weighted avg       0.79      0.79      0.78      2021\n",
      "\n"
     ]
    }
   ],
   "source": [
    "#Part C: RF and SVM\n",
    "\n",
    "#Random Forest Classifier\n",
    "rf_clf = RandomForestClassifier(n_estimators=300, random_state=26)\n",
    "rf_clf.fit(X_train, y_train)\n",
    "y_pred_rf = rf_clf.predict(X_test)\n",
    "\n",
    "print(\"Random Forest Classifier\")\n",
    "print(f\"Macro-average F1 score: {f1_score(y_test, y_pred_rf, average='macro')}\")\n",
    "print(\"Classification Report:\")\n",
    "print(classification_report(y_test, y_pred_rf))\n",
    "\n",
    "#Support Vector Machine Classifier\n",
    "svm_clf = SVC(kernel='linear')\n",
    "svm_clf.fit(X_train, y_train)\n",
    "y_pred_svm = svm_clf.predict(X_test)\n",
    "\n",
    "print(\"SVM Classifier with Linear Kernel\")\n",
    "print(f\"Macro-average F1 score: {f1_score(y_test, y_pred_svm, average='macro')}\")\n",
    "print(\"Classification Report:\")\n",
    "print(classification_report(y_test, y_pred_svm))"
   ]
  },
  {
   "cell_type": "code",
   "execution_count": null,
   "id": "ddb198c9",
   "metadata": {},
   "outputs": [],
   "source": [
    "#Part D \n"
   ]
  }
 ],
 "metadata": {
  "kernelspec": {
   "display_name": "Python 3",
   "language": "python",
   "name": "python3"
  },
  "language_info": {
   "codemirror_mode": {
    "name": "ipython",
    "version": 3
   },
   "file_extension": ".py",
   "mimetype": "text/x-python",
   "name": "python",
   "nbconvert_exporter": "python",
   "pygments_lexer": "ipython3",
   "version": "3.11.8"
  }
 },
 "nbformat": 4,
 "nbformat_minor": 5
}
