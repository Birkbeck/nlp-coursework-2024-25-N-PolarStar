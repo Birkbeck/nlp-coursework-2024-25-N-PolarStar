{
 "cells": [
  {
   "cell_type": "code",
   "execution_count": 14,
   "id": "ca4e7a2d",
   "metadata": {},
   "outputs": [],
   "source": [
    "import pandas as pd\n",
    "\n",
    "from sklearn.feature_extraction.text import TfidfVectorizer\n",
    "from sklearn.model_selection import train_test_split\n",
    "\n",
    "from sklearn.ensemble import RandomForestClassifier\n",
    "from sklearn.svm import SVC\n",
    "from sklearn.metrics import classification_report, f1_score\n",
    "\n",
    "from collections import Counter\n",
    "\n",
    "import spacy\n",
    "nlp = spacy.load(\"en_core_web_sm\")"
   ]
  },
  {
   "cell_type": "code",
   "execution_count": 4,
   "id": "411772a8",
   "metadata": {},
   "outputs": [],
   "source": [
    "path = \"C:/Users/Baleid/Desktop/BirkBeck Study/NLP/Coursework/nlp-coursework-2024-25-N-PolarStar/p2-texts/hansard40000.csv\"\n",
    "df = pd.read_csv(path)\n"
   ]
  },
  {
   "cell_type": "code",
   "execution_count": 5,
   "id": "0d835fff",
   "metadata": {},
   "outputs": [
    {
     "name": "stdout",
     "output_type": "stream",
     "text": [
      "Dimensions of the final dataframe:\n",
      "(8084, 8)\n"
     ]
    }
   ],
   "source": [
    "# Part A\n",
    "\n",
    "#Data Cleaning\n",
    "\n",
    "df['party'] = df['party'].replace('Labour (Co-op)', 'Labour')\n",
    "\n",
    "#top 4 parties\n",
    "df_no_speaker= df[df['party'] != 'Speaker']\n",
    "top_four_parties = df_no_speaker['party'].value_counts().nlargest(4).index\n",
    "df_top_four = df_no_speaker[df_no_speaker['party'].isin(top_four_parties)]\n",
    "\n",
    "# not speech\n",
    "df_not_speech = df_top_four[df_top_four['speech_class'] == 'Speech']\n",
    "\n",
    "# less than 1000 characters\n",
    "df_clean = df_not_speech[df_not_speech['speech'].str.len() >= 1000]\n",
    "print(\"Dimensions of the final dataframe:\")\n",
    "print(df_clean.shape)\n"
   ]
  },
  {
   "cell_type": "code",
   "execution_count": 6,
   "id": "f331733a",
   "metadata": {},
   "outputs": [],
   "source": [
    "#Part B\n",
    "vectorizer = TfidfVectorizer(stop_words='english', max_features=3000)\n",
    "X = vectorizer.fit_transform(df_clean['speech'])\n",
    "y = df_clean['party']\n",
    "\n",
    "X_train, X_test, y_train, y_test = train_test_split(X, y, stratify=y, random_state=26)"
   ]
  },
  {
   "cell_type": "code",
   "execution_count": null,
   "id": "acdaeafc",
   "metadata": {},
   "outputs": [
    {
     "name": "stdout",
     "output_type": "stream",
     "text": [
      "Random Forest Classifier\n",
      "Macro-average F1 score: 0.44849276102645497\n",
      "Classification Report:\n",
      "                         precision    recall  f1-score   support\n",
      "\n",
      "           Conservative       0.73      0.97      0.83      1205\n",
      "                 Labour       0.74      0.45      0.56       579\n",
      "       Liberal Democrat       0.00      0.00      0.00        67\n",
      "Scottish National Party       0.88      0.26      0.40       170\n",
      "\n",
      "               accuracy                           0.73      2021\n",
      "              macro avg       0.59      0.42      0.45      2021\n",
      "           weighted avg       0.72      0.73      0.69      2021\n",
      "\n"
     ]
    },
    {
     "name": "stderr",
     "output_type": "stream",
     "text": [
      "c:\\Users\\Baleid\\AppData\\Local\\Programs\\Python\\Python311\\Lib\\site-packages\\sklearn\\metrics\\_classification.py:1565: UndefinedMetricWarning: Precision is ill-defined and being set to 0.0 in labels with no predicted samples. Use `zero_division` parameter to control this behavior.\n",
      "  _warn_prf(average, modifier, f\"{metric.capitalize()} is\", len(result))\n",
      "c:\\Users\\Baleid\\AppData\\Local\\Programs\\Python\\Python311\\Lib\\site-packages\\sklearn\\metrics\\_classification.py:1565: UndefinedMetricWarning: Precision is ill-defined and being set to 0.0 in labels with no predicted samples. Use `zero_division` parameter to control this behavior.\n",
      "  _warn_prf(average, modifier, f\"{metric.capitalize()} is\", len(result))\n",
      "c:\\Users\\Baleid\\AppData\\Local\\Programs\\Python\\Python311\\Lib\\site-packages\\sklearn\\metrics\\_classification.py:1565: UndefinedMetricWarning: Precision is ill-defined and being set to 0.0 in labels with no predicted samples. Use `zero_division` parameter to control this behavior.\n",
      "  _warn_prf(average, modifier, f\"{metric.capitalize()} is\", len(result))\n"
     ]
    },
    {
     "name": "stdout",
     "output_type": "stream",
     "text": [
      "SVM Classifier with Linear Kernel\n",
      "Macro-average F1 score: 0.5846137591595653\n",
      "Classification Report:\n",
      "                         precision    recall  f1-score   support\n",
      "\n",
      "           Conservative       0.82      0.92      0.87      1205\n",
      "                 Labour       0.72      0.68      0.70       579\n",
      "       Liberal Democrat       0.83      0.07      0.14        67\n",
      "Scottish National Party       0.78      0.53      0.63       170\n",
      "\n",
      "               accuracy                           0.79      2021\n",
      "              macro avg       0.79      0.55      0.58      2021\n",
      "           weighted avg       0.79      0.79      0.78      2021\n",
      "\n"
     ]
    }
   ],
   "source": [
    "#Part C: RF and SVM\n",
    "\n",
    "#Random Forest Classifier\n",
    "rf_clf = RandomForestClassifier(n_estimators=300, random_state=26)\n",
    "rf_clf.fit(X_train, y_train)\n",
    "y_pred_rf = rf_clf.predict(X_test)\n",
    "\n",
    "print(\"Random Forest Classifier\")\n",
    "print(f\"Macro-average F1 score: {f1_score(y_test, y_pred_rf, average='macro')}\")\n",
    "print(\"Classification Report:\")\n",
    "print(classification_report(y_test, y_pred_rf, zero_division=0))\n",
    "\n",
    "#Support Vector Machine Classifier\n",
    "svm_clf = SVC(kernel='linear')\n",
    "svm_clf.fit(X_train, y_train)\n",
    "y_pred_svm = svm_clf.predict(X_test)\n",
    "\n",
    "print(\"SVM Classifier with Linear Kernel\")\n",
    "print(f\"Macro-average F1 score: {f1_score(y_test, y_pred_svm, average='macro')}\")\n",
    "print(\"Classification Report:\")\n",
    "print(classification_report(y_test, y_pred_svm))"
   ]
  },
  {
   "cell_type": "code",
   "execution_count": null,
   "id": "ddb198c9",
   "metadata": {},
   "outputs": [
    {
     "name": "stdout",
     "output_type": "stream",
     "text": [
      "Random Forest Classifier with N-grams\n",
      "Classification Report:\n",
      "                         precision    recall  f1-score   support\n",
      "\n",
      "           Conservative       0.74      0.96      0.84      1446\n",
      "                 Labour       0.76      0.50      0.61       695\n",
      "       Liberal Democrat       0.00      0.00      0.00        81\n",
      "Scottish National Party       0.85      0.37      0.51       204\n",
      "\n",
      "               accuracy                           0.75      2426\n",
      "              macro avg       0.59      0.46      0.49      2426\n",
      "           weighted avg       0.73      0.75      0.72      2426\n",
      "\n"
     ]
    },
    {
     "name": "stderr",
     "output_type": "stream",
     "text": [
      "c:\\Users\\Baleid\\AppData\\Local\\Programs\\Python\\Python311\\Lib\\site-packages\\sklearn\\metrics\\_classification.py:1565: UndefinedMetricWarning: Precision is ill-defined and being set to 0.0 in labels with no predicted samples. Use `zero_division` parameter to control this behavior.\n",
      "  _warn_prf(average, modifier, f\"{metric.capitalize()} is\", len(result))\n",
      "c:\\Users\\Baleid\\AppData\\Local\\Programs\\Python\\Python311\\Lib\\site-packages\\sklearn\\metrics\\_classification.py:1565: UndefinedMetricWarning: Precision is ill-defined and being set to 0.0 in labels with no predicted samples. Use `zero_division` parameter to control this behavior.\n",
      "  _warn_prf(average, modifier, f\"{metric.capitalize()} is\", len(result))\n",
      "c:\\Users\\Baleid\\AppData\\Local\\Programs\\Python\\Python311\\Lib\\site-packages\\sklearn\\metrics\\_classification.py:1565: UndefinedMetricWarning: Precision is ill-defined and being set to 0.0 in labels with no predicted samples. Use `zero_division` parameter to control this behavior.\n",
      "  _warn_prf(average, modifier, f\"{metric.capitalize()} is\", len(result))\n"
     ]
    },
    {
     "name": "stdout",
     "output_type": "stream",
     "text": [
      "SVM Classifier with N-grams\n",
      "Classification Report:\n",
      "                         precision    recall  f1-score   support\n",
      "\n",
      "           Conservative       0.83      0.92      0.87      1446\n",
      "                 Labour       0.72      0.72      0.72       695\n",
      "       Liberal Democrat       1.00      0.02      0.05        81\n",
      "Scottish National Party       0.76      0.53      0.63       204\n",
      "\n",
      "               accuracy                           0.80      2426\n",
      "              macro avg       0.83      0.55      0.57      2426\n",
      "           weighted avg       0.80      0.80      0.78      2426\n",
      "\n"
     ]
    }
   ],
   "source": [
    "#Part D \n",
    "ngram_vectorizer = TfidfVectorizer(stop_words='english', max_features=3000, ngram_range=(1, 3))\n",
    "X_ngram = ngram_vectorizer.fit_transform(df_clean['speech'])\n",
    "X_train_ngram, X_test_ngram, y_train_ngram, y_test_ngram = train_test_split(X_ngram, y, stratify=y, random_state=26, test_size=0.30)\n",
    "\n",
    "#Random Forest Classifier with N-grams\n",
    "rf_clf_ngram = RandomForestClassifier(n_estimators=300, random_state=26)\n",
    "rf_clf_ngram.fit(X_train_ngram, y_train_ngram)\n",
    "y_pred_rf_ngram = rf_clf_ngram.predict(X_test_ngram)\n",
    "print(\"Random Forest Classifier with N-grams\")\n",
    "print(\"Classification Report:\")\n",
    "print(classification_report(y_test_ngram, y_pred_rf_ngram, zero_division=0))\n",
    "\n",
    "#Support Vector Machine Classifier with N-grams\n",
    "svm_clf_ngram = SVC(kernel='linear')\n",
    "svm_clf_ngram.fit(X_train_ngram, y_train_ngram)\n",
    "y_pred_svm_ngram = svm_clf_ngram.predict(X_test_ngram)\n",
    "print(\"SVM Classifier with N-grams\")\n",
    "print(\"Classification Report:\")\n",
    "print(classification_report(y_test_ngram, y_pred_svm_ngram))"
   ]
  },
  {
   "cell_type": "code",
   "execution_count": 17,
   "id": "9420d2d3",
   "metadata": {},
   "outputs": [
    {
     "name": "stderr",
     "output_type": "stream",
     "text": [
      "c:\\Users\\Baleid\\AppData\\Local\\Programs\\Python\\Python311\\Lib\\site-packages\\sklearn\\feature_extraction\\text.py:517: UserWarning: The parameter 'token_pattern' will not be used since 'tokenizer' is not None'\n",
      "  warnings.warn(\n"
     ]
    },
    {
     "name": "stdout",
     "output_type": "stream",
     "text": [
      "Random Forest Classifier with Custom Tokenizer\n",
      "Classification Report:\n",
      "                         precision    recall  f1-score   support\n",
      "\n",
      "           Conservative       0.72      0.97      0.82      1205\n",
      "                 Labour       0.72      0.43      0.54       579\n",
      "       Liberal Democrat       0.00      0.00      0.00        67\n",
      "Scottish National Party       0.81      0.28      0.42       170\n",
      "\n",
      "               accuracy                           0.72      2021\n",
      "              macro avg       0.56      0.42      0.44      2021\n",
      "           weighted avg       0.70      0.72      0.68      2021\n",
      "\n",
      "SVM Classifier with Custom Tokenizer\n",
      "Classification Report:\n",
      "                         precision    recall  f1-score   support\n",
      "\n",
      "           Conservative       0.79      0.91      0.84      1205\n",
      "                 Labour       0.69      0.62      0.65       579\n",
      "       Liberal Democrat       1.00      0.03      0.06        67\n",
      "Scottish National Party       0.75      0.43      0.55       170\n",
      "\n",
      "               accuracy                           0.76      2021\n",
      "              macro avg       0.81      0.50      0.52      2021\n",
      "           weighted avg       0.76      0.76      0.74      2021\n",
      "\n"
     ]
    }
   ],
   "source": [
    "#Part E\n",
    "def custom_tokenizer(text):\n",
    "    doc = nlp(text)\n",
    "    tokens = []\n",
    "    for token in doc:\n",
    "        if token.is_alpha and not token.is_stop:\n",
    "            tokens.append(token.lemma_.lower())\n",
    "    # Count frequencies\n",
    "    token_counts = Counter(tokens)\n",
    "    tokens = [t for t in tokens if token_counts[t] > 1]\n",
    "    \n",
    "    return tokens\n",
    "\n",
    "custom_vectorizer = TfidfVectorizer(tokenizer=custom_tokenizer, max_features=3000)\n",
    "X_custom = custom_vectorizer.fit_transform(df_clean['speech'])\n",
    "X_train_custom, X_test_custom, y_train_custom, y_test_custom = train_test_split(X_custom, y, stratify=y, random_state=26)\n",
    "\n",
    "rf_clf_custom = RandomForestClassifier(n_estimators=300)\n",
    "rf_clf_custom.fit(X_train_custom, y_train_custom)\n",
    "y_pred_rf_custom = rf_clf_custom.predict(X_test_custom)\n",
    "print(\"Random Forest Classifier with Custom Tokenizer\")\n",
    "print(\"Classification Report:\")\n",
    "print(classification_report(y_test_custom, y_pred_rf_custom, zero_division=0))\n",
    "\n",
    "svm_clf_custom = SVC(kernel='linear')\n",
    "svm_clf_custom.fit(X_train_custom, y_train_custom)\n",
    "y_pred_svm_custom = svm_clf_custom.predict(X_test_custom)\n",
    "print(\"SVM Classifier with Custom Tokenizer\")\n",
    "print(\"Classification Report:\")\n",
    "print(classification_report(y_test_custom, y_pred_svm_custom))"
   ]
  }
 ],
 "metadata": {
  "kernelspec": {
   "display_name": "Python 3",
   "language": "python",
   "name": "python3"
  },
  "language_info": {
   "codemirror_mode": {
    "name": "ipython",
    "version": 3
   },
   "file_extension": ".py",
   "mimetype": "text/x-python",
   "name": "python",
   "nbconvert_exporter": "python",
   "pygments_lexer": "ipython3",
   "version": "3.11.8"
  }
 },
 "nbformat": 4,
 "nbformat_minor": 5
}
